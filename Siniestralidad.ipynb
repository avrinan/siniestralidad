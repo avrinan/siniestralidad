{
 "cells": [
  {
   "cell_type": "code",
   "execution_count": 27,
   "metadata": {
    "collapsed": true
   },
   "outputs": [],
   "source": [
    "import pandas as pd\n",
    "import matplotlib.pyplot as plt\n",
    "import seaborn as sns\n",
    "\n",
    "%matplotlib inline"
   ]
  },
  {
   "cell_type": "code",
   "execution_count": 28,
   "metadata": {
    "collapsed": false
   },
   "outputs": [],
   "source": [
    "file_path = './88b9f0e9-2800-4f00-aee4-31f5183bee2f.csv'\n",
    "data = pd.read_csv(file_path, index_col='_id', parse_dates=True)"
   ]
  },
  {
   "cell_type": "code",
   "execution_count": 29,
   "metadata": {
    "collapsed": false
   },
   "outputs": [
    {
     "data": {
      "text/html": [
       "<div>\n",
       "<table border=\"1\" class=\"dataframe\">\n",
       "  <thead>\n",
       "    <tr style=\"text-align: right;\">\n",
       "      <th></th>\n",
       "      <th>Edad</th>\n",
       "      <th>Fallecido a los Dias</th>\n",
       "      <th>X</th>\n",
       "      <th>Y</th>\n",
       "    </tr>\n",
       "  </thead>\n",
       "  <tbody>\n",
       "    <tr>\n",
       "      <th>count</th>\n",
       "      <td>522.000000</td>\n",
       "      <td>528.000000</td>\n",
       "      <td>528.000000</td>\n",
       "      <td>5.280000e+02</td>\n",
       "    </tr>\n",
       "    <tr>\n",
       "      <th>mean</th>\n",
       "      <td>43.549808</td>\n",
       "      <td>1.482955</td>\n",
       "      <td>576078.332734</td>\n",
       "      <td>6.249499e+06</td>\n",
       "    </tr>\n",
       "    <tr>\n",
       "      <th>std</th>\n",
       "      <td>21.547929</td>\n",
       "      <td>3.778961</td>\n",
       "      <td>96435.699403</td>\n",
       "      <td>1.418700e+05</td>\n",
       "    </tr>\n",
       "    <tr>\n",
       "      <th>min</th>\n",
       "      <td>0.000000</td>\n",
       "      <td>0.000000</td>\n",
       "      <td>370376.051500</td>\n",
       "      <td>6.128700e+06</td>\n",
       "    </tr>\n",
       "    <tr>\n",
       "      <th>25%</th>\n",
       "      <td>24.000000</td>\n",
       "      <td>0.000000</td>\n",
       "      <td>546260.510000</td>\n",
       "      <td>6.146855e+06</td>\n",
       "    </tr>\n",
       "    <tr>\n",
       "      <th>50%</th>\n",
       "      <td>42.000000</td>\n",
       "      <td>0.000000</td>\n",
       "      <td>575152.762750</td>\n",
       "      <td>6.174719e+06</td>\n",
       "    </tr>\n",
       "    <tr>\n",
       "      <th>75%</th>\n",
       "      <td>61.000000</td>\n",
       "      <td>1.000000</td>\n",
       "      <td>614238.660000</td>\n",
       "      <td>6.321504e+06</td>\n",
       "    </tr>\n",
       "    <tr>\n",
       "      <th>max</th>\n",
       "      <td>94.000000</td>\n",
       "      <td>27.000000</td>\n",
       "      <td>839797.500100</td>\n",
       "      <td>6.652420e+06</td>\n",
       "    </tr>\n",
       "  </tbody>\n",
       "</table>\n",
       "</div>"
      ],
      "text/plain": [
       "             Edad  Fallecido a los Dias              X             Y\n",
       "count  522.000000            528.000000     528.000000  5.280000e+02\n",
       "mean    43.549808              1.482955  576078.332734  6.249499e+06\n",
       "std     21.547929              3.778961   96435.699403  1.418700e+05\n",
       "min      0.000000              0.000000  370376.051500  6.128700e+06\n",
       "25%     24.000000              0.000000  546260.510000  6.146855e+06\n",
       "50%     42.000000              0.000000  575152.762750  6.174719e+06\n",
       "75%     61.000000              1.000000  614238.660000  6.321504e+06\n",
       "max     94.000000             27.000000  839797.500100  6.652420e+06"
      ]
     },
     "execution_count": 29,
     "metadata": {},
     "output_type": "execute_result"
    }
   ],
   "source": [
    "data.describe()"
   ]
  },
  {
   "cell_type": "code",
   "execution_count": 30,
   "metadata": {
    "collapsed": false,
    "scrolled": true
   },
   "outputs": [
    {
     "name": "stdout",
     "output_type": "stream",
     "text": [
      "<class 'pandas.core.frame.DataFrame'>\n",
      "Int64Index: 528 entries, 1 to 528\n",
      "Data columns (total 14 columns):\n",
      "Fecha y hora            528 non-null object\n",
      "Departamento            528 non-null object\n",
      "Localidad               528 non-null object\n",
      "Jurisdiccion            528 non-null object\n",
      "Tipo de Siniestro       528 non-null object\n",
      "Vehiculo                528 non-null object\n",
      "Rol                     528 non-null object\n",
      "Edad                    522 non-null float64\n",
      "Sexo                    527 non-null object\n",
      "Fallecido a los Dias    528 non-null int64\n",
      "Otro vehiculo           368 non-null object\n",
      "Lugar del Siniestro     528 non-null object\n",
      "X                       528 non-null float64\n",
      "Y                       528 non-null float64\n",
      "dtypes: float64(3), int64(1), object(10)\n",
      "memory usage: 61.9+ KB\n"
     ]
    }
   ],
   "source": [
    "data.info()"
   ]
  },
  {
   "cell_type": "code",
   "execution_count": 31,
   "metadata": {
    "collapsed": false
   },
   "outputs": [
    {
     "data": {
      "text/plain": [
       "array(['COLISIÓN ENTRE VEHÍCULOS', 'DESPISTE', 'ATROPELLO DE PEATÓN',\n",
       "       'CAÍDA', 'ATROPELLO DE ANIMALES',\n",
       "       'COLISIÓN CON OBSTÁCULO EN CALZADA'], dtype=object)"
      ]
     },
     "execution_count": 31,
     "metadata": {},
     "output_type": "execute_result"
    }
   ],
   "source": [
    "data['Tipo de Siniestro'].unique()"
   ]
  },
  {
   "cell_type": "code",
   "execution_count": 32,
   "metadata": {
    "collapsed": false
   },
   "outputs": [
    {
     "data": {
      "text/plain": [
       "6"
      ]
     },
     "execution_count": 32,
     "metadata": {},
     "output_type": "execute_result"
    }
   ],
   "source": [
    "data['Edad'].isnull().sum()"
   ]
  },
  {
   "cell_type": "code",
   "execution_count": 33,
   "metadata": {
    "collapsed": false
   },
   "outputs": [
    {
     "data": {
      "text/plain": [
       "1"
      ]
     },
     "execution_count": 33,
     "metadata": {},
     "output_type": "execute_result"
    }
   ],
   "source": [
    "data['Sexo'].isnull().sum()"
   ]
  },
  {
   "cell_type": "code",
   "execution_count": 34,
   "metadata": {
    "collapsed": false
   },
   "outputs": [
    {
     "data": {
      "text/plain": [
       "0"
      ]
     },
     "execution_count": 34,
     "metadata": {},
     "output_type": "execute_result"
    }
   ],
   "source": [
    "data[data['Tipo de Siniestro'] == 'COLISIÓN ENTRE VEHÍCULOS']['Otro vehiculo'].isnull().sum()"
   ]
  },
  {
   "cell_type": "code",
   "execution_count": 40,
   "metadata": {
    "collapsed": false
   },
   "outputs": [
    {
     "data": {
      "text/plain": [
       "array(['OMNIBUS', 'CAMION', nan, 'AUTO', 'CAMIONETA', 'MOTO', 'BICICLETA',\n",
       "       'CARRO', 'MAQUINARIA', 'TREN'], dtype=object)"
      ]
     },
     "execution_count": 40,
     "metadata": {},
     "output_type": "execute_result"
    }
   ],
   "source": [
    "data['Otro vehiculo'].unique()"
   ]
  },
  {
   "cell_type": "code",
   "execution_count": null,
   "metadata": {
    "collapsed": true
   },
   "outputs": [],
   "source": [
    "sns."
   ]
  },
  {
   "cell_type": "code",
   "execution_count": null,
   "metadata": {
    "collapsed": true
   },
   "outputs": [],
   "source": []
  }
 ],
 "metadata": {
  "kernelspec": {
   "display_name": "Python 3",
   "language": "python",
   "name": "python3"
  },
  "language_info": {
   "codemirror_mode": {
    "name": "ipython",
    "version": 3
   },
   "file_extension": ".py",
   "mimetype": "text/x-python",
   "name": "python",
   "nbconvert_exporter": "python",
   "pygments_lexer": "ipython3",
   "version": "3.6.0"
  }
 },
 "nbformat": 4,
 "nbformat_minor": 2
}
